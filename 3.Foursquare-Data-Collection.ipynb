{
 "cells": [
  {
   "cell_type": "markdown",
   "metadata": {},
   "source": [
    "<h1 align='center'> Foursquare Data Collection</h1>"
   ]
  },
  {
   "cell_type": "markdown",
   "metadata": {},
   "source": [
    "### Import Necessary Modules"
   ]
  },
  {
   "cell_type": "code",
   "execution_count": 1,
   "metadata": {},
   "outputs": [],
   "source": [
    "import pandas as pd\n",
    "import numpy as np\n",
    "import geopandas as gp\n",
    "import folium\n",
    "import requests\n",
    "from geopy import distance\n",
    "import re\n",
    "from shapely.geometry import Point\n",
    "import collections\n",
    "import json as JSON\n",
    "from IPython.display import clear_output\n",
    "import seaborn as sns"
   ]
  },
  {
   "cell_type": "markdown",
   "metadata": {},
   "source": [
    "### Read the Pre-processed Data:\n",
    "Continued from: [Previous File - Data Collection](https://github.com/gokulmuthiah/Coursera_Capstone/blob/master/Capstone-Data-Collection.ipynb)"
   ]
  },
  {
   "cell_type": "code",
   "execution_count": 2,
   "metadata": {},
   "outputs": [
    {
     "data": {
      "text/html": [
       "<div>\n",
       "<style scoped>\n",
       "    .dataframe tbody tr th:only-of-type {\n",
       "        vertical-align: middle;\n",
       "    }\n",
       "\n",
       "    .dataframe tbody tr th {\n",
       "        vertical-align: top;\n",
       "    }\n",
       "\n",
       "    .dataframe thead th {\n",
       "        text-align: right;\n",
       "    }\n",
       "</style>\n",
       "<table border=\"1\" class=\"dataframe\">\n",
       "  <thead>\n",
       "    <tr style=\"text-align: right;\">\n",
       "      <th></th>\n",
       "      <th>code</th>\n",
       "      <th>name</th>\n",
       "      <th>lat</th>\n",
       "      <th>long</th>\n",
       "      <th>area</th>\n",
       "      <th>borough</th>\n",
       "      <th>population</th>\n",
       "      <th>medAge</th>\n",
       "      <th>popDensity</th>\n",
       "      <th>dayPop</th>\n",
       "      <th>...</th>\n",
       "      <th>medRent</th>\n",
       "      <th>medIncome</th>\n",
       "      <th>meanIncome</th>\n",
       "      <th>veryLow</th>\n",
       "      <th>low</th>\n",
       "      <th>middle</th>\n",
       "      <th>high</th>\n",
       "      <th>veryHigh</th>\n",
       "      <th>AADT</th>\n",
       "      <th>geometry</th>\n",
       "    </tr>\n",
       "  </thead>\n",
       "  <tbody>\n",
       "    <tr>\n",
       "      <th>0</th>\n",
       "      <td>BK09</td>\n",
       "      <td>Brooklyn Heights-Cobble Hill</td>\n",
       "      <td>40.695469</td>\n",
       "      <td>-73.994871</td>\n",
       "      <td>1.615327</td>\n",
       "      <td>Brooklyn</td>\n",
       "      <td>24212</td>\n",
       "      <td>37.1</td>\n",
       "      <td>14988</td>\n",
       "      <td>21307.0</td>\n",
       "      <td>...</td>\n",
       "      <td>2278.0</td>\n",
       "      <td>125817.0</td>\n",
       "      <td>205275.0</td>\n",
       "      <td>1279</td>\n",
       "      <td>1201</td>\n",
       "      <td>2008</td>\n",
       "      <td>3355</td>\n",
       "      <td>3272</td>\n",
       "      <td>11051.190476</td>\n",
       "      <td>POLYGON ((-73.99236367043254 40.689690123777, ...</td>\n",
       "    </tr>\n",
       "    <tr>\n",
       "      <th>1</th>\n",
       "      <td>BK17</td>\n",
       "      <td>Sheepshead Bay-Gerritsen Beach-Manhattan Beach</td>\n",
       "      <td>40.588300</td>\n",
       "      <td>-73.941511</td>\n",
       "      <td>10.214922</td>\n",
       "      <td>Brooklyn</td>\n",
       "      <td>67681</td>\n",
       "      <td>43.9</td>\n",
       "      <td>6625</td>\n",
       "      <td>59559.0</td>\n",
       "      <td>...</td>\n",
       "      <td>1180.0</td>\n",
       "      <td>57150.0</td>\n",
       "      <td>79613.0</td>\n",
       "      <td>6637</td>\n",
       "      <td>5298</td>\n",
       "      <td>6797</td>\n",
       "      <td>5785</td>\n",
       "      <td>1633</td>\n",
       "      <td>12013.800000</td>\n",
       "      <td>POLYGON ((-73.91809256480843 40.58657033500475...</td>\n",
       "    </tr>\n",
       "    <tr>\n",
       "      <th>2</th>\n",
       "      <td>BK19</td>\n",
       "      <td>Brighton Beach</td>\n",
       "      <td>40.580922</td>\n",
       "      <td>-73.961217</td>\n",
       "      <td>2.770061</td>\n",
       "      <td>Brooklyn</td>\n",
       "      <td>35811</td>\n",
       "      <td>44.3</td>\n",
       "      <td>12927</td>\n",
       "      <td>31514.0</td>\n",
       "      <td>...</td>\n",
       "      <td>1194.0</td>\n",
       "      <td>36802.0</td>\n",
       "      <td>63703.0</td>\n",
       "      <td>5762</td>\n",
       "      <td>2697</td>\n",
       "      <td>3301</td>\n",
       "      <td>2006</td>\n",
       "      <td>791</td>\n",
       "      <td>12252.733333</td>\n",
       "      <td>POLYGON ((-73.96034953585246 40.58730628557137...</td>\n",
       "    </tr>\n",
       "    <tr>\n",
       "      <th>3</th>\n",
       "      <td>BK21</td>\n",
       "      <td>Seagate-Coney Island</td>\n",
       "      <td>40.576480</td>\n",
       "      <td>-73.991231</td>\n",
       "      <td>6.242851</td>\n",
       "      <td>Brooklyn</td>\n",
       "      <td>31132</td>\n",
       "      <td>39.0</td>\n",
       "      <td>4986</td>\n",
       "      <td>27396.0</td>\n",
       "      <td>...</td>\n",
       "      <td>676.0</td>\n",
       "      <td>27345.0</td>\n",
       "      <td>49358.0</td>\n",
       "      <td>5381</td>\n",
       "      <td>2285</td>\n",
       "      <td>2158</td>\n",
       "      <td>1115</td>\n",
       "      <td>297</td>\n",
       "      <td>15428.300000</td>\n",
       "      <td>POLYGON ((-73.97459000582634 40.58313882075885...</td>\n",
       "    </tr>\n",
       "    <tr>\n",
       "      <th>4</th>\n",
       "      <td>BK23</td>\n",
       "      <td>West Brighton</td>\n",
       "      <td>40.579088</td>\n",
       "      <td>-73.973391</td>\n",
       "      <td>1.409979</td>\n",
       "      <td>Brooklyn</td>\n",
       "      <td>16436</td>\n",
       "      <td>58.0</td>\n",
       "      <td>11656</td>\n",
       "      <td>14464.0</td>\n",
       "      <td>...</td>\n",
       "      <td>905.0</td>\n",
       "      <td>40316.0</td>\n",
       "      <td>58752.0</td>\n",
       "      <td>3169</td>\n",
       "      <td>1790</td>\n",
       "      <td>2212</td>\n",
       "      <td>955</td>\n",
       "      <td>275</td>\n",
       "      <td>8256.600000</td>\n",
       "      <td>POLYGON ((-73.9688899587795 40.57526123899416,...</td>\n",
       "    </tr>\n",
       "  </tbody>\n",
       "</table>\n",
       "<p>5 rows × 21 columns</p>\n",
       "</div>"
      ],
      "text/plain": [
       "   code                                            name        lat       long  \\\n",
       "0  BK09                    Brooklyn Heights-Cobble Hill  40.695469 -73.994871   \n",
       "1  BK17  Sheepshead Bay-Gerritsen Beach-Manhattan Beach  40.588300 -73.941511   \n",
       "2  BK19                                  Brighton Beach  40.580922 -73.961217   \n",
       "3  BK21                            Seagate-Coney Island  40.576480 -73.991231   \n",
       "4  BK23                                   West Brighton  40.579088 -73.973391   \n",
       "\n",
       "        area   borough  population  medAge  popDensity   dayPop  ...  medRent  \\\n",
       "0   1.615327  Brooklyn       24212    37.1       14988  21307.0  ...   2278.0   \n",
       "1  10.214922  Brooklyn       67681    43.9        6625  59559.0  ...   1180.0   \n",
       "2   2.770061  Brooklyn       35811    44.3       12927  31514.0  ...   1194.0   \n",
       "3   6.242851  Brooklyn       31132    39.0        4986  27396.0  ...    676.0   \n",
       "4   1.409979  Brooklyn       16436    58.0       11656  14464.0  ...    905.0   \n",
       "\n",
       "   medIncome  meanIncome  veryLow   low  middle  high  veryHigh          AADT  \\\n",
       "0   125817.0    205275.0     1279  1201    2008  3355      3272  11051.190476   \n",
       "1    57150.0     79613.0     6637  5298    6797  5785      1633  12013.800000   \n",
       "2    36802.0     63703.0     5762  2697    3301  2006       791  12252.733333   \n",
       "3    27345.0     49358.0     5381  2285    2158  1115       297  15428.300000   \n",
       "4    40316.0     58752.0     3169  1790    2212   955       275   8256.600000   \n",
       "\n",
       "                                            geometry  \n",
       "0  POLYGON ((-73.99236367043254 40.689690123777, ...  \n",
       "1  POLYGON ((-73.91809256480843 40.58657033500475...  \n",
       "2  POLYGON ((-73.96034953585246 40.58730628557137...  \n",
       "3  POLYGON ((-73.97459000582634 40.58313882075885...  \n",
       "4  POLYGON ((-73.9688899587795 40.57526123899416,...  \n",
       "\n",
       "[5 rows x 21 columns]"
      ]
     },
     "execution_count": 2,
     "metadata": {},
     "output_type": "execute_result"
    }
   ],
   "source": [
    "df=gp.read_file(\"Data/Cleaned/data.shp\")\n",
    "df.crs={'init': 'epsg:4326'}\n",
    "df.head()"
   ]
  },
  {
   "cell_type": "markdown",
   "metadata": {},
   "source": [
    "## Preparation for Data Collection from Foursquare\n",
    "\n",
    "\n",
    "#### Foursquare Credentials"
   ]
  },
  {
   "cell_type": "code",
   "execution_count": 12,
   "metadata": {},
   "outputs": [],
   "source": [
    "CLIENT_ID=\"SQQXQW23MRDH3TM4FCYAGGBG4KI5TNOMNMJYZTPSX0QFMRW4\"\n",
    "CLIENT_SECRET=\"RLT452NQ14X0VBLLKQOB4ZIDN3RQACAUN4B2Z1NRHOE21OOG\"\n",
    "VERSION=\"20190815\""
   ]
  },
  {
   "cell_type": "markdown",
   "metadata": {},
   "source": [
    "### Get Categories of Data from Foursquare\n",
    "\n",
    "The list of all possible categories that can be obtained from Foursquare is initally collected and processed for esay working later on in the project "
   ]
  },
  {
   "cell_type": "code",
   "execution_count": 13,
   "metadata": {},
   "outputs": [],
   "source": [
    "catUrl=\"https://api.foursquare.com/v2/venues/categories\"\n",
    "catParams=dict(client_id=CLIENT_ID,\n",
    "               client_secret=CLIENT_SECRET,\n",
    "               v=VERSION)\n",
    "catJson = requests.get(catUrl,params=catParams).json()"
   ]
  },
  {
   "cell_type": "code",
   "execution_count": 7,
   "metadata": {},
   "outputs": [],
   "source": [
    "def getSubCategories(cats,keywords,depth,parent=\"None\"):\n",
    "    subCategories=[]\n",
    "    if(keywords in cats['name'].split() or keywords==\"\"):\n",
    "        subCategories.append((cats['id']+\";\"+cats['name']+\";\"+str(depth)+\";\"+parent))\n",
    "    if(depth>0):\n",
    "        if(cats['categories']!=[]):\n",
    "            for i in cats['categories']:\n",
    "                subCategories.append(getSubCategories(i,keywords,depth-1,cats['name']))\n",
    "    if (subCategories!=[]):\n",
    "        return subCategories\n",
    "    \n",
    "def getCategory(string):\n",
    "    tmp=[]\n",
    "    for i,x in categoryDf.iterrows():\n",
    "        for words in string.split(','):\n",
    "            if(bool(re.match('.*'+words+'.*',x['category']))):\n",
    "                print(x['category'])\n",
    "                tmp.append(x['id'])\n",
    "    return tmp\n",
    "\n",
    "def getParent(category,parentDepth):\n",
    "    if (categoryDf.loc[categoryDf['category']==category,'depth'].values[0]<=parentDepth):\n",
    "        return category\n",
    "    else:\n",
    "        return getParent(categoryDf.loc[categoryDf['category']==category,'parent'].values[0],parentDepth)\n",
    "    \n",
    "def getDepth(category):\n",
    "        return categoryDf.loc[categoryDf['category']==category,'depth'].values[0]"
   ]
  },
  {
   "cell_type": "markdown",
   "metadata": {},
   "source": [
    "##### Functions to flatten category hierarchy and make them into a dataframe with parent and depth characteristics"
   ]
  },
  {
   "cell_type": "code",
   "execution_count": 8,
   "metadata": {},
   "outputs": [],
   "source": [
    "def flatten(l):\n",
    "    for el in l:\n",
    "        if isinstance(el, collections.Iterable) and not isinstance(el, (str, bytes)):\n",
    "            yield from flatten(el)\n",
    "        else:\n",
    "            yield el\n",
    "\n",
    "def fun(x):\n",
    "    if isinstance(x, list):\n",
    "        return x[0].split(';')\n",
    "    else:\n",
    "        return x.split(';')"
   ]
  },
  {
   "cell_type": "markdown",
   "metadata": {},
   "source": [
    "#### Categories Dataframe"
   ]
  },
  {
   "cell_type": "code",
   "execution_count": 14,
   "metadata": {},
   "outputs": [
    {
     "data": {
      "text/html": [
       "<div>\n",
       "<style scoped>\n",
       "    .dataframe tbody tr th:only-of-type {\n",
       "        vertical-align: middle;\n",
       "    }\n",
       "\n",
       "    .dataframe tbody tr th {\n",
       "        vertical-align: top;\n",
       "    }\n",
       "\n",
       "    .dataframe thead th {\n",
       "        text-align: right;\n",
       "    }\n",
       "</style>\n",
       "<table border=\"1\" class=\"dataframe\">\n",
       "  <thead>\n",
       "    <tr style=\"text-align: right;\">\n",
       "      <th></th>\n",
       "      <th>id</th>\n",
       "      <th>category</th>\n",
       "      <th>depth</th>\n",
       "      <th>parent</th>\n",
       "    </tr>\n",
       "  </thead>\n",
       "  <tbody>\n",
       "    <tr>\n",
       "      <th>0</th>\n",
       "      <td>4d4b7104d754a06370d81259</td>\n",
       "      <td>Arts &amp; Entertainment</td>\n",
       "      <td>0</td>\n",
       "      <td>None</td>\n",
       "    </tr>\n",
       "    <tr>\n",
       "      <th>1</th>\n",
       "      <td>56aa371be4b08b9a8d5734db</td>\n",
       "      <td>Amphitheater</td>\n",
       "      <td>1</td>\n",
       "      <td>Arts &amp; Entertainment</td>\n",
       "    </tr>\n",
       "    <tr>\n",
       "      <th>2</th>\n",
       "      <td>4fceea171983d5d06c3e9823</td>\n",
       "      <td>Aquarium</td>\n",
       "      <td>1</td>\n",
       "      <td>Arts &amp; Entertainment</td>\n",
       "    </tr>\n",
       "    <tr>\n",
       "      <th>3</th>\n",
       "      <td>4bf58dd8d48988d1e1931735</td>\n",
       "      <td>Arcade</td>\n",
       "      <td>1</td>\n",
       "      <td>Arts &amp; Entertainment</td>\n",
       "    </tr>\n",
       "    <tr>\n",
       "      <th>4</th>\n",
       "      <td>4bf58dd8d48988d1e2931735</td>\n",
       "      <td>Art Gallery</td>\n",
       "      <td>1</td>\n",
       "      <td>Arts &amp; Entertainment</td>\n",
       "    </tr>\n",
       "  </tbody>\n",
       "</table>\n",
       "</div>"
      ],
      "text/plain": [
       "                         id              category  depth                parent\n",
       "0  4d4b7104d754a06370d81259  Arts & Entertainment      0                  None\n",
       "1  56aa371be4b08b9a8d5734db          Amphitheater      1  Arts & Entertainment\n",
       "2  4fceea171983d5d06c3e9823              Aquarium      1  Arts & Entertainment\n",
       "3  4bf58dd8d48988d1e1931735                Arcade      1  Arts & Entertainment\n",
       "4  4bf58dd8d48988d1e2931735           Art Gallery      1  Arts & Entertainment"
      ]
     },
     "execution_count": 14,
     "metadata": {},
     "output_type": "execute_result"
    }
   ],
   "source": [
    "categoryList=[getSubCategories(i,'',4) for i in catJson['response']['categories']]\n",
    "\n",
    "tmp=pd.DataFrame(list(flatten(categoryList)),columns=['main'])\n",
    "tmp['main']=tmp['main'].apply(fun)\n",
    "categoryDf=pd.DataFrame(columns=['id','category','depth','parent'])\n",
    "for i,row in tmp.iterrows():\n",
    "    categoryDf.loc[i,'id']=row[0][0]\n",
    "    categoryDf.loc[i,'category']=row[0][1]\n",
    "    categoryDf.loc[i,'depth']=row[0][2]\n",
    "    categoryDf.loc[i,'parent']=row[0][3]\n",
    "categoryDf['depth']=4-(categoryDf['depth'].astype(int))\n",
    "categoryDf.head()"
   ]
  },
  {
   "cell_type": "markdown",
   "metadata": {},
   "source": [
    "## API Data Collection"
   ]
  },
  {
   "cell_type": "markdown",
   "metadata": {},
   "source": [
    "### Function to make API calls to Foursquare\n",
    "Different parameters based on queries"
   ]
  },
  {
   "cell_type": "code",
   "execution_count": 330,
   "metadata": {},
   "outputs": [],
   "source": [
    "def makeAPICall(query,place=None,rad=500,section=\"\",offset=0,price=\"\",q=\"\"):\n",
    "    if (query=='explore'):\n",
    "        url=\"https://api.foursquare.com/v2/venues/explore\"\n",
    "        params=dict(client_id=CLIENT_ID,\n",
    "                    client_secret=CLIENT_SECRET,\n",
    "                    v=VERSION,\n",
    "                    ll=str(place['lat'])+','+str(place['long']),\n",
    "                    radius=rad,\n",
    "                    section=section,\n",
    "                    limit=500,\n",
    "                    offset=offset,\n",
    "                    price=price,\n",
    "                    query=q\n",
    "                   )\n",
    "        \n",
    "    elif (query=='search'):\n",
    "        url=\"https://api.foursquare.com/v2/venues/search\"\n",
    "        params=dict(client_id=CLIENT_ID,\n",
    "                    client_secret=CLIENT_SECRET,\n",
    "                    v=VERSION,\n",
    "                    ll=str(place['lat'])+','+str(place['long']),\n",
    "                    radius=rad,\n",
    "                    intent=\"browse\",\n",
    "                    categoryId=q,\n",
    "                    limit=500,\n",
    "                   ) \n",
    "    else:\n",
    "        url=\"https://api.foursquare.com/v2/venues/{}\".format(query)\n",
    "        params=dict(client_id=CLIENT_ID,\n",
    "                    client_secret=CLIENT_SECRET,\n",
    "                    v=VERSION,)\n",
    "        \n",
    "    result = requests.get(url,params=params)\n",
    "    if result.status_code==200:\n",
    "        return result.json()\n",
    "    else:\n",
    "        print(\"Failed\")\n",
    "        return {'meta':{'code':400}}"
   ]
  },
  {
   "cell_type": "markdown",
   "metadata": {},
   "source": [
    "#### Radius of Neighborhood\n",
    "The radius parameter to be used in the API Calls. The radius varies based upon the Area of the concerned Neighborhood"
   ]
  },
  {
   "cell_type": "code",
   "execution_count": 323,
   "metadata": {},
   "outputs": [],
   "source": [
    "bbs=df.geometry.bounds\n",
    "radii=[]\n",
    "for i,pt in bbs.iterrows():\n",
    "    radii.append(round((distance.geodesic((pt['minx'],pt['miny']),(pt['maxx'],pt['maxy']),ellipsoid='WGS-84').m/3)))"
   ]
  },
  {
   "cell_type": "markdown",
   "metadata": {},
   "source": [
    "### Function to make API Calls and parse the results\n",
    "The function makes API calls for every element in the initial dataframe and can make a variety of queries and can also iterate through various pages and price ranges. It also parses the response and returns a dictionary ready to be processed into a Dataframe."
   ]
  },
  {
   "cell_type": "code",
   "execution_count": 333,
   "metadata": {},
   "outputs": [],
   "source": [
    "def getData(df,section=\"\",queryType=\"explore\",query=\"\"):\n",
    "    Data=[]\n",
    "    missedRows=[]\n",
    "    items=[None]*100\n",
    "    for index,place in df.iterrows():\n",
    "        for price in range(1,5):\n",
    "            offset=0\n",
    "            while True:\n",
    "                json=makeAPICall(queryType,place,radii[index],section,offset,price,query)\n",
    "                if(json['meta']['code']==200 and queryType=='explore'):\n",
    "                    items=json['response']['groups'][0]['items']\n",
    "                    offset+=1\n",
    "                    for item in items:\n",
    "                        Data.append({\n",
    "                            'code':place['code'],\n",
    "                            'id':item['venue']['id'],\n",
    "                            'name':item['venue']['name'],\n",
    "                            'category':item['venue']['categories'][0]['name'],\n",
    "                            'price':price,\n",
    "                            'lat':item['venue']['location'][\"lat\"],        \n",
    "                            'long':item['venue']['location'][\"lng\"],\n",
    "                            'radii':radii[index],\n",
    "                        })\n",
    "                    if(len(items)<100):\n",
    "                        break\n",
    "                        \n",
    "                elif(json['meta']['code']==200 and queryType=='search'):\n",
    "                    items=json['response']['venues']\n",
    "                    offset+=1\n",
    "                    for item in items:\n",
    "                        Data.append({\n",
    "                            'code':place['code'],\n",
    "                            'id':item['id'],\n",
    "                            'name':item['name'],\n",
    "                            'category':item['categories'][0]['name'],\n",
    "                            'price':price,\n",
    "                            'lat':item['location'][\"lat\"],        \n",
    "                            'long':item['location'][\"lng\"],\n",
    "                            'radii':radii[index],\n",
    "                        })\n",
    "                    if(len(items)<100):\n",
    "                        break\n",
    "                        \n",
    "                else:\n",
    "                    missedRows.append([place['code'],price,offset])\n",
    "                    print('Failed Read',place['name'])\n",
    "                    break  \n",
    "        clear_output()\n",
    "        print(\"Current Location:{}.{}\\n Total Entries:{} \".format(index,place['name'],len(Data)))\n",
    "    return Data,missedRows"
   ]
  },
  {
   "cell_type": "markdown",
   "metadata": {},
   "source": [
    "### Make API Calls and get Data\n",
    "We make API Calls to get varieties of Data:\n",
    "<ul>\n",
    "    <li>Restaurants</li>\n",
    "    <li>Coffee Shops</li>\n",
    "    <li>Drinks</li>\n",
    "    <li>Landmarks and Areas of Interest</li>\n",
    "</ul>\n",
    "Landmarks are used to find attractive places in a neighborhood and analyze its efffect on the placement of Restaurants in the place\n",
    "\n",
    "The obtained Data is persisted in the local system as JSON files for further Processing"
   ]
  },
  {
   "cell_type": "code",
   "execution_count": 334,
   "metadata": {},
   "outputs": [
    {
     "name": "stdout",
     "output_type": "stream",
     "text": [
      "Current Location:187.Great Kills\n",
      " Total Entries:3928 \n"
     ]
    }
   ],
   "source": [
    "# restaurants,missed=getData(df,'food')\n",
    "# with open(\"Data.json\",'w') as file:\n",
    "#     JSON.dump(restaurants,file)\n",
    "    \n",
    "# coffee,missed=getData(df,'coffee')\n",
    "# with open(\"coffee.json\",'w') as file:\n",
    "#     JSON.dump(coffee,file)\n",
    "\n",
    "# drinks,missed=getData(df,'drinks')\n",
    "# with open(\"drinks.json\",'w') as file:\n",
    "#     JSON.dump(drinks,file)\n",
    "    \n",
    "# arts,missed=getData(df,'arts')\n",
    "# with open(\"arts.json\",'w') as file:\n",
    "#     JSON.dump(arts,file)\n",
    "\n",
    "# siteCategories=getCategory(\"Site,Landmark\")\n",
    "# siteCategories=','.join(siteCategories)\n",
    "# landmarks,missed=getData(df,queryType='search',query=siteCategories)\n",
    "# with open(\"landmarks.json\",'w') as file:\n",
    "#     JSON.dump(landmarks,file)"
   ]
  },
  {
   "cell_type": "markdown",
   "metadata": {},
   "source": [
    "#### A Function to aggregate the various categories of restaurants to their parent Categories automatically"
   ]
  },
  {
   "cell_type": "code",
   "execution_count": 9,
   "metadata": {},
   "outputs": [],
   "source": [
    "def aggregate(series,depth=1):\n",
    "    aggSeries=[]\n",
    "    for i,category in series.iteritems():\n",
    "        aggSeries.append(getParent(category,depth))\n",
    "    series=[]\n",
    "    for category in aggSeries:\n",
    "        if category==\"Chinese Restaurant\" or category==\"Japanese Restaurant\":\n",
    "            series.append(category)\n",
    "        else:\n",
    "            series.append(getParent(category,1))\n",
    "    return pd.Series(series)"
   ]
  },
  {
   "cell_type": "markdown",
   "metadata": {},
   "source": [
    "### Read locally persisted Data into Dataframes\n",
    "The various Categories of Data available are seen in the Outputs of the following cells"
   ]
  },
  {
   "cell_type": "code",
   "execution_count": 15,
   "metadata": {},
   "outputs": [
    {
     "data": {
      "text/plain": [
       "Pizza Place            1288\n",
       "Deli / Bodega          1148\n",
       "Chinese Restaurant      937\n",
       "Asian Restaurant        705\n",
       "Italian Restaurant      698\n",
       "Mexican Restaurant      627\n",
       "Bakery                  582\n",
       "Japanese Restaurant     555\n",
       "American Restaurant     500\n",
       "Sandwich Place          496\n",
       "Name: category, dtype: int64"
      ]
     },
     "execution_count": 15,
     "metadata": {},
     "output_type": "execute_result"
    }
   ],
   "source": [
    "with open(\"Data/Data.json\",'r') as file:    \n",
    "    restaurantJson=JSON.load(file)\n",
    "\n",
    "restaurants=pd.DataFrame(restaurantJson)\n",
    "restaurants.drop_duplicates(['lat','long','name'],inplace=True)\n",
    "restaurants.reset_index(drop=True,inplace=True)\n",
    "restaurants['category']=aggregate(restaurants['category'],2)\n",
    "restaurants['category'].value_counts()[:10]"
   ]
  },
  {
   "cell_type": "code",
   "execution_count": 16,
   "metadata": {},
   "outputs": [
    {
     "data": {
      "text/plain": [
       "Coffee Shop            1103\n",
       "Café                    821\n",
       "Donut Shop              533\n",
       "Bakery                  131\n",
       "Tea Room                100\n",
       "Dessert Shop             49\n",
       "Sandwich Place           40\n",
       "American Restaurant      33\n",
       "Bar                      31\n",
       "Diner                    31\n",
       "Name: category, dtype: int64"
      ]
     },
     "execution_count": 16,
     "metadata": {},
     "output_type": "execute_result"
    }
   ],
   "source": [
    "with open(\"Data/coffee.json\",'r') as file:    \n",
    "    coffee=JSON.load(file)\n",
    "\n",
    "coffee=pd.DataFrame(coffee)\n",
    "coffee.drop_duplicates(['lat','long','name'],inplace=True)\n",
    "coffee.reset_index(drop=True,inplace=True)\n",
    "coffee['category']=aggregate(coffee['category'],1)\n",
    "coffee['category'].value_counts()[:10]"
   ]
  },
  {
   "cell_type": "code",
   "execution_count": 17,
   "metadata": {},
   "outputs": [
    {
     "data": {
      "text/plain": [
       "Bar                    2330\n",
       "Lounge                  333\n",
       "Nightclub               180\n",
       "American Restaurant     129\n",
       "Italian Restaurant       72\n",
       "Asian Restaurant         69\n",
       "Gastropub                60\n",
       "Brewery                  53\n",
       "Mexican Restaurant       45\n",
       "Restaurant               36\n",
       "Name: category, dtype: int64"
      ]
     },
     "execution_count": 17,
     "metadata": {},
     "output_type": "execute_result"
    }
   ],
   "source": [
    "with open(\"Data/drinks.json\",'r') as file:    \n",
    "    drinks=JSON.load(file)\n",
    "\n",
    "drinks=pd.DataFrame(drinks)\n",
    "drinks.drop_duplicates(['lat','long','name'],inplace=True)\n",
    "drinks.reset_index(drop=True,inplace=True)\n",
    "drinks['category']=aggregate(drinks['category'],1)\n",
    "drinks['category'].value_counts()[:10]"
   ]
  },
  {
   "cell_type": "code",
   "execution_count": 341,
   "metadata": {},
   "outputs": [
    {
     "data": {
      "text/plain": [
       "Performing Arts Venue    913\n",
       "Art Gallery              664\n",
       "Music Venue              369\n",
       "Museum                   180\n",
       "Movie Theater            161\n",
       "Public Art                84\n",
       "Exhibit                   79\n",
       "Concert Hall              71\n",
       "Comedy Club               33\n",
       "Tour Provider             27\n",
       "Name: category, dtype: int64"
      ]
     },
     "execution_count": 341,
     "metadata": {},
     "output_type": "execute_result"
    }
   ],
   "source": [
    "with open(\"Data/arts.json\",'r') as file:    \n",
    "    arts=JSON.load(file)\n",
    "\n",
    "arts=pd.DataFrame(arts)\n",
    "arts.drop_duplicates(['lat','long','name'],inplace=True)\n",
    "arts.reset_index(drop=True,inplace=True)\n",
    "arts['category']=aggregate(arts['category'],1)\n",
    "arts['category'].value_counts()[:10]"
   ]
  },
  {
   "cell_type": "code",
   "execution_count": 343,
   "metadata": {},
   "outputs": [
    {
     "data": {
      "text/plain": [
       "Historic Site    483\n",
       "Landmarks        175\n",
       "Memorial Site     27\n",
       "Name: category, dtype: int64"
      ]
     },
     "execution_count": 343,
     "metadata": {},
     "output_type": "execute_result"
    }
   ],
   "source": [
    "with open(\"Data/landmarks.json\",'r') as file:    \n",
    "    landmarks=JSON.load(file)\n",
    "\n",
    "landmarks=pd.DataFrame(landmarks)\n",
    "landmarks.drop_duplicates(['lat','long','name'],inplace=True)\n",
    "landmarks.reset_index(drop=True,inplace=True)\n",
    "landmarks['category']=aggregate(landmarks['category'])\n",
    "landmarks['category'].replace(\"Government Building\",\"Landmarks\",inplace=True)\n",
    "landmarks['category'].value_counts()[:3]"
   ]
  },
  {
   "cell_type": "markdown",
   "metadata": {},
   "source": [
    "## Process Target Data"
   ]
  },
  {
   "cell_type": "markdown",
   "metadata": {},
   "source": [
    "### Manual Aggregation\n",
    "The aggregation of various types of Restaurants into similar and related cuisines is done manually to reduce the dimensions."
   ]
  },
  {
   "cell_type": "markdown",
   "metadata": {},
   "source": [
    "The Data from the Restaurants,Coffee Shops and Drinks outlets are merged into a single Dataframe and duplicates are eliminated "
   ]
  },
  {
   "cell_type": "code",
   "execution_count": 18,
   "metadata": {},
   "outputs": [
    {
     "data": {
      "text/plain": [
       "Bar                   2361\n",
       "Pizza Place           1317\n",
       "Café                  1290\n",
       "Deli / Bodega         1171\n",
       "Coffee Shop           1119\n",
       "Donut Shop             957\n",
       "Chinese Restaurant     937\n",
       "Italian Restaurant     794\n",
       "Asian Restaurant       786\n",
       "Bakery                 714\n",
       "Name: category, dtype: int64"
      ]
     },
     "execution_count": 18,
     "metadata": {},
     "output_type": "execute_result"
    }
   ],
   "source": [
    "Data=restaurants.append(coffee).append(drinks)#.append(arts)\n",
    "Data.drop_duplicates(['lat','long','name'])\n",
    "Data.reset_index(drop=True,inplace=True)\n",
    "Data['category'].value_counts()[Data['category'].value_counts()>100][:10]"
   ]
  },
  {
   "cell_type": "markdown",
   "metadata": {},
   "source": [
    "The list of aggregation of Categories"
   ]
  },
  {
   "cell_type": "code",
   "execution_count": 19,
   "metadata": {},
   "outputs": [],
   "source": [
    "european=[\n",
    "    \"Eastern European Restaurant\",\n",
    "    \"German Restaurant\",\n",
    "    \"Australian Restaurant\",\n",
    "    \"Russian Restaurant\",\n",
    "    \"Austrian Restaurant\",    \n",
    "    \"Creperie\",\n",
    "    \"Scandinavian Restaurant\",\n",
    "    \"English Restaurant\",\n",
    "    \"Swiss Restaurant\",\n",
    "    \"Polish Restaurant\",\n",
    "    \"Irish Pub\",\n",
    "    \"Ukrainian Restaurant\",\n",
    "    \"Modern European Restaurant\",\n",
    "    \"Czech Restaurant\",\n",
    "    \"Greek Restaurant\",\n",
    "    \"French Restaurant\",\n",
    "]\n",
    "\n",
    "middleEastern=[\n",
    "    \"Falafel Restaurant\",\n",
    "    \"Turkish Restaurant\",\n",
    "    \"Afghan Restaurant\",\n",
    "    \"African Restaurant\",\n",
    "    \"Kebab Restaurant\",\n",
    "    \"Middle Eastern Restaurant\",\n",
    "    \"Mediterranean Restaurant\",\n",
    "]\n",
    "\n",
    "latinAmerican=[\n",
    "    \"Caribbean Restaurant\",\n",
    "    \"Portuguese Restaurant\",\n",
    "    \"Spanish Restaurant\",\n",
    "    \"Mexican Restaurant\",\n",
    "    \"Hawaiian Restaurant\"\n",
    "]\n",
    "\n",
    "fastFoods=[\n",
    "    \"Food Truck\",\n",
    "    \"Sandwich Place\",\n",
    "    \"Fried Chicken Joint\",\n",
    "    \"Burger Joint\",\n",
    "    \"BBQ Joint\",\n",
    "    \"Wings Joint\",\n",
    "    \"Hot Dog Joint\",\n",
    "    \"Snack Place\",\n",
    "    \"Mac & Cheese Joint\",\n",
    "]\n",
    "\n",
    "diners=[\n",
    "    \"Breakfast Spot\",\n",
    "    \"Salad Place\",\n",
    "    \"Soup Place\",\n",
    "    \"Restaurant\",\n",
    "    \"Vegetarian / Vegan Restaurant\",\n",
    "    \"Southern / Soul Food Restaurant\",\n",
    "    \"Salad Place\",\n",
    "]\n",
    "\n",
    "snacks=[\n",
    "    \"Bakery\",\n",
    "    \"Donut Shop\",\n",
    "    \"Bagel Shop\",\n",
    "    \"Dessert Shop\"\n",
    "]\n",
    "\n",
    "Lounge=[\n",
    "    \"Gastropub\",\n",
    "    \"Lounge\",\n",
    "    \"Nightclub\",\n",
    "]"
   ]
  },
  {
   "cell_type": "code",
   "execution_count": 20,
   "metadata": {
    "scrolled": true
   },
   "outputs": [],
   "source": [
    "aggCategories=[]\n",
    "for i,row in Data.iterrows():    \n",
    "    x=row['category']\n",
    "    if(x in european):\n",
    "        aggCategories.append(\"European Restaurant\")\n",
    "    elif(x in middleEastern):\n",
    "        aggCategories.append(\"Middle Eastern Restaurant\")\n",
    "    elif(x in latinAmerican):\n",
    "        aggCategories.append(\"Latin American Restaurant\")\n",
    "    elif(x in fastFoods):\n",
    "        aggCategories.append(\"Fast Food Restaurant\")\n",
    "    elif(x in snacks):\n",
    "        aggCategories.append(\"Bakery/Dessert\")\n",
    "    elif((x==\"Diner\"or x in diners) and (row['price']==3 or row['price']==4)):\n",
    "        aggCategories.append(\"American Restaurant\")\n",
    "    elif(x in diners):\n",
    "        aggCategories.append(\"Diner\")   \n",
    "    elif(x==\"American Restaurant\" and row['price']==1):\n",
    "        aggCategories.append(\"Diner\")\n",
    "    elif(x==\"Dumpling Restaurant\"):\n",
    "        aggCategories.append(\"Chinese Restaurant\")\n",
    "    elif(x==\"Brewery\"):\n",
    "        aggCategories.append(\"Bar\")\n",
    "    elif(x in Lounge):\n",
    "        aggCategories.append(\"Nightclub/Lounge\")\n",
    "    elif(x==\"Café\" or x==\"Tea Room\"):\n",
    "        aggCategories.append(\"Coffee Shop\")\n",
    "    else:\n",
    "        aggCategories.append(x)\n",
    "\n",
    "Data['category']=pd.Series(aggCategories)"
   ]
  },
  {
   "cell_type": "markdown",
   "metadata": {},
   "source": [
    "### Condense Data into Neighborhoods"
   ]
  },
  {
   "cell_type": "markdown",
   "metadata": {},
   "source": [
    "The aggregated Data is filtered to have only instances of above 100 and the data is made into a GeoDataframe"
   ]
  },
  {
   "cell_type": "code",
   "execution_count": 21,
   "metadata": {},
   "outputs": [
    {
     "data": {
      "text/plain": [
       "(19722, 2)"
      ]
     },
     "execution_count": 21,
     "metadata": {},
     "output_type": "execute_result"
    }
   ],
   "source": [
    "Data=Data.groupby('category').filter(lambda x:len(x)>100)\n",
    "gData=gp.GeoDataFrame(Data.iloc[:,0],geometry=[Point(y,x) for x, y in zip(Data.lat,Data.long)]).reset_index(drop=True)\n",
    "gData.crs={'init': 'epsg:4326'}\n",
    "gData.shape"
   ]
  },
  {
   "cell_type": "markdown",
   "metadata": {},
   "source": [
    "##### The indiviual Restaurants are aggregated into neighborhoods  with their counts being pivoted into Columns"
   ]
  },
  {
   "cell_type": "code",
   "execution_count": 22,
   "metadata": {},
   "outputs": [],
   "source": [
    "newDf=gp.sjoin(df,gData).drop('index_right',axis=1).reset_index(drop=True)"
   ]
  },
  {
   "cell_type": "code",
   "execution_count": 23,
   "metadata": {},
   "outputs": [
    {
     "data": {
      "text/html": [
       "<div>\n",
       "<style scoped>\n",
       "    .dataframe tbody tr th:only-of-type {\n",
       "        vertical-align: middle;\n",
       "    }\n",
       "\n",
       "    .dataframe tbody tr th {\n",
       "        vertical-align: top;\n",
       "    }\n",
       "\n",
       "    .dataframe thead th {\n",
       "        text-align: right;\n",
       "    }\n",
       "</style>\n",
       "<table border=\"1\" class=\"dataframe\">\n",
       "  <thead>\n",
       "    <tr style=\"text-align: right;\">\n",
       "      <th></th>\n",
       "      <th>code</th>\n",
       "      <th>American Restaurant</th>\n",
       "      <th>Asian Restaurant</th>\n",
       "      <th>Bakery/Dessert</th>\n",
       "      <th>Bar</th>\n",
       "      <th>Chinese Restaurant</th>\n",
       "      <th>Coffee Shop</th>\n",
       "      <th>Deli / Bodega</th>\n",
       "      <th>Diner</th>\n",
       "      <th>European Restaurant</th>\n",
       "      <th>Fast Food Restaurant</th>\n",
       "      <th>Indian Restaurant</th>\n",
       "      <th>Italian Restaurant</th>\n",
       "      <th>Japanese Restaurant</th>\n",
       "      <th>Latin American Restaurant</th>\n",
       "      <th>Middle Eastern Restaurant</th>\n",
       "      <th>Nightclub/Lounge</th>\n",
       "      <th>Pizza Place</th>\n",
       "      <th>Seafood Restaurant</th>\n",
       "      <th>Steakhouse</th>\n",
       "    </tr>\n",
       "  </thead>\n",
       "  <tbody>\n",
       "    <tr>\n",
       "      <th>0</th>\n",
       "      <td>BK09</td>\n",
       "      <td>2.0</td>\n",
       "      <td>4.0</td>\n",
       "      <td>12.0</td>\n",
       "      <td>7.0</td>\n",
       "      <td>3.0</td>\n",
       "      <td>12.0</td>\n",
       "      <td>8.0</td>\n",
       "      <td>5.0</td>\n",
       "      <td>1.0</td>\n",
       "      <td>9.0</td>\n",
       "      <td>1.0</td>\n",
       "      <td>5.0</td>\n",
       "      <td>6.0</td>\n",
       "      <td>4.0</td>\n",
       "      <td>2.0</td>\n",
       "      <td>2.0</td>\n",
       "      <td>6.0</td>\n",
       "      <td>0.0</td>\n",
       "      <td>1.0</td>\n",
       "    </tr>\n",
       "    <tr>\n",
       "      <th>1</th>\n",
       "      <td>BK17</td>\n",
       "      <td>5.0</td>\n",
       "      <td>1.0</td>\n",
       "      <td>16.0</td>\n",
       "      <td>13.0</td>\n",
       "      <td>3.0</td>\n",
       "      <td>15.0</td>\n",
       "      <td>7.0</td>\n",
       "      <td>10.0</td>\n",
       "      <td>4.0</td>\n",
       "      <td>17.0</td>\n",
       "      <td>0.0</td>\n",
       "      <td>7.0</td>\n",
       "      <td>9.0</td>\n",
       "      <td>1.0</td>\n",
       "      <td>8.0</td>\n",
       "      <td>3.0</td>\n",
       "      <td>10.0</td>\n",
       "      <td>6.0</td>\n",
       "      <td>0.0</td>\n",
       "    </tr>\n",
       "    <tr>\n",
       "      <th>2</th>\n",
       "      <td>BK19</td>\n",
       "      <td>1.0</td>\n",
       "      <td>2.0</td>\n",
       "      <td>10.0</td>\n",
       "      <td>3.0</td>\n",
       "      <td>1.0</td>\n",
       "      <td>12.0</td>\n",
       "      <td>2.0</td>\n",
       "      <td>4.0</td>\n",
       "      <td>6.0</td>\n",
       "      <td>5.0</td>\n",
       "      <td>2.0</td>\n",
       "      <td>0.0</td>\n",
       "      <td>4.0</td>\n",
       "      <td>1.0</td>\n",
       "      <td>2.0</td>\n",
       "      <td>2.0</td>\n",
       "      <td>2.0</td>\n",
       "      <td>1.0</td>\n",
       "      <td>0.0</td>\n",
       "    </tr>\n",
       "    <tr>\n",
       "      <th>3</th>\n",
       "      <td>BK21</td>\n",
       "      <td>4.0</td>\n",
       "      <td>2.0</td>\n",
       "      <td>6.0</td>\n",
       "      <td>6.0</td>\n",
       "      <td>1.0</td>\n",
       "      <td>5.0</td>\n",
       "      <td>6.0</td>\n",
       "      <td>5.0</td>\n",
       "      <td>0.0</td>\n",
       "      <td>16.0</td>\n",
       "      <td>0.0</td>\n",
       "      <td>1.0</td>\n",
       "      <td>0.0</td>\n",
       "      <td>10.0</td>\n",
       "      <td>1.0</td>\n",
       "      <td>3.0</td>\n",
       "      <td>10.0</td>\n",
       "      <td>2.0</td>\n",
       "      <td>0.0</td>\n",
       "    </tr>\n",
       "    <tr>\n",
       "      <th>4</th>\n",
       "      <td>BK23</td>\n",
       "      <td>1.0</td>\n",
       "      <td>0.0</td>\n",
       "      <td>2.0</td>\n",
       "      <td>3.0</td>\n",
       "      <td>1.0</td>\n",
       "      <td>2.0</td>\n",
       "      <td>4.0</td>\n",
       "      <td>5.0</td>\n",
       "      <td>0.0</td>\n",
       "      <td>6.0</td>\n",
       "      <td>0.0</td>\n",
       "      <td>1.0</td>\n",
       "      <td>1.0</td>\n",
       "      <td>0.0</td>\n",
       "      <td>1.0</td>\n",
       "      <td>1.0</td>\n",
       "      <td>4.0</td>\n",
       "      <td>0.0</td>\n",
       "      <td>0.0</td>\n",
       "    </tr>\n",
       "  </tbody>\n",
       "</table>\n",
       "</div>"
      ],
      "text/plain": [
       "   code  American Restaurant  Asian Restaurant  Bakery/Dessert   Bar  \\\n",
       "0  BK09                  2.0               4.0            12.0   7.0   \n",
       "1  BK17                  5.0               1.0            16.0  13.0   \n",
       "2  BK19                  1.0               2.0            10.0   3.0   \n",
       "3  BK21                  4.0               2.0             6.0   6.0   \n",
       "4  BK23                  1.0               0.0             2.0   3.0   \n",
       "\n",
       "   Chinese Restaurant  Coffee Shop  Deli / Bodega  Diner  European Restaurant  \\\n",
       "0                 3.0         12.0            8.0    5.0                  1.0   \n",
       "1                 3.0         15.0            7.0   10.0                  4.0   \n",
       "2                 1.0         12.0            2.0    4.0                  6.0   \n",
       "3                 1.0          5.0            6.0    5.0                  0.0   \n",
       "4                 1.0          2.0            4.0    5.0                  0.0   \n",
       "\n",
       "   Fast Food Restaurant  Indian Restaurant  Italian Restaurant  \\\n",
       "0                   9.0                1.0                 5.0   \n",
       "1                  17.0                0.0                 7.0   \n",
       "2                   5.0                2.0                 0.0   \n",
       "3                  16.0                0.0                 1.0   \n",
       "4                   6.0                0.0                 1.0   \n",
       "\n",
       "   Japanese Restaurant  Latin American Restaurant  Middle Eastern Restaurant  \\\n",
       "0                  6.0                        4.0                        2.0   \n",
       "1                  9.0                        1.0                        8.0   \n",
       "2                  4.0                        1.0                        2.0   \n",
       "3                  0.0                       10.0                        1.0   \n",
       "4                  1.0                        0.0                        1.0   \n",
       "\n",
       "   Nightclub/Lounge  Pizza Place  Seafood Restaurant  Steakhouse  \n",
       "0               2.0          6.0                 0.0         1.0  \n",
       "1               3.0         10.0                 6.0         0.0  \n",
       "2               2.0          2.0                 1.0         0.0  \n",
       "3               3.0         10.0                 2.0         0.0  \n",
       "4               1.0          4.0                 0.0         0.0  "
      ]
     },
     "execution_count": 23,
     "metadata": {},
     "output_type": "execute_result"
    }
   ],
   "source": [
    "tmp=pd.DataFrame(newDf.groupby('code')['category'].value_counts())\n",
    "tmp=tmp.rename({'category':'count'},axis=1).reset_index()\n",
    "piv=tmp.pivot(index='code',columns='category',values='count').fillna(0).reset_index()\n",
    "piv.index.name=None\n",
    "piv.columns.name=None\n",
    "piv.head()"
   ]
  },
  {
   "cell_type": "markdown",
   "metadata": {},
   "source": [
    "##### The processed Data is Backed-Up"
   ]
  },
  {
   "cell_type": "code",
   "execution_count": 28,
   "metadata": {},
   "outputs": [],
   "source": [
    "tmp=df.merge(piv)\n",
    "tmp.to_file(\"Data/updatedData.shp\")\n",
    "with open(\"Data/Headers.json\",'w') as file:\n",
    "    JSON.dump(list(tmp.columns.values),file)"
   ]
  },
  {
   "cell_type": "markdown",
   "metadata": {},
   "source": [
    "## Process Arts and landmarks Data "
   ]
  },
  {
   "cell_type": "code",
   "execution_count": 356,
   "metadata": {},
   "outputs": [],
   "source": [
    "Arts=arts.append(landmarks)\n",
    "Arts.drop_duplicates(['lat','long','name'])\n",
    "Arts=Arts.groupby('category').filter(lambda x:len(x)>10)\n",
    "Arts.drop(Arts[Arts['category']=='Arts & Entertainment'].index,inplace=True)\n",
    "Arts.drop(Arts[Arts['category']=='Tour Provider'].index,inplace=True)\n",
    "Arts.replace(\"Comedy Club\",\"Performing Arts Venue\",inplace=True)\n",
    "Arts.reset_index(drop=True,inplace=True)"
   ]
  },
  {
   "cell_type": "markdown",
   "metadata": {},
   "source": [
    "The landmarks are seperated into major and minor landmarks based on their category and the footfall will be obtained only for major Landmarks because collecting footfall Data requires **Premium Foursquare Calls** and it is limited to 500 for a Free Account"
   ]
  },
  {
   "cell_type": "code",
   "execution_count": 635,
   "metadata": {},
   "outputs": [],
   "source": [
    "smallLandmarks=Arts['category'].value_counts()[:4].index.values\n",
    "Landmarks=Arts['category'].value_counts()[4:].index.values\n",
    "smallLandmarks=Arts[Arts['category'].isin(smallLandmarks)].reset_index(drop=True)\n",
    "Landmarks=Arts[Arts['category'].isin(Landmarks)].reset_index(drop=True)"
   ]
  },
  {
   "cell_type": "markdown",
   "metadata": {},
   "source": [
    "### Collect major landmarks footfall"
   ]
  },
  {
   "cell_type": "code",
   "execution_count": 595,
   "metadata": {},
   "outputs": [
    {
     "name": "stdout",
     "output_type": "stream",
     "text": [
      "Success: Dan Marino's Geriatric Clubhouse\n",
      "Count:446\n"
     ]
    }
   ],
   "source": [
    "# with open(\"footfall.json\",'r') as file:    \n",
    "#     footfall=JSON.load(file)\n",
    "# footfall=pd.DataFrame(footfall)\n",
    "# ids=list(footfall['id'])\n",
    "# newFootfall=[]\n",
    "# missed=[]\n",
    "# successful=0\n",
    "# for i,row in Landmarks.iterrows():\n",
    "#     if(row['id'] in ids):\n",
    "#         continue\n",
    "#     else:\n",
    "#         json=makeAPICall(row['id'])\n",
    "#         print(json['meta']['code'])\n",
    "#         if (json['meta']['code']==200):\n",
    "#             item=json['response']['venue']\n",
    "#             if('rating' in item.keys()):\n",
    "#                 newFootfall.append({\n",
    "#                     'id':item['id'],\n",
    "#                     'name':item['name'],\n",
    "#                     'lat':item['location'][\"lat\"],        \n",
    "#                     'long':item['location'][\"lng\"],\n",
    "#                     'tips':item['stats']['tipCount'],\n",
    "#                     'likes':item['likes']['count'],\n",
    "#                     'rating':item['rating'],\n",
    "#                     'photos':item['photos']['count']\n",
    "#                     })\n",
    "#             else:\n",
    "#                 newFootfall.append({\n",
    "#                     'id':item['id'],\n",
    "#                     'name':item['name'],\n",
    "#                     'lat':item['location'][\"lat\"],        \n",
    "#                     'long':item['location'][\"lng\"],\n",
    "#                     'tips':item['stats']['tipCount'],\n",
    "#                     'likes':item['likes']['count'],\n",
    "#                     'rating':np.NaN,\n",
    "#                     'photos':item['photos']['count']\n",
    "#                     })\n",
    "#             successful+=1\n",
    "#             clear_output()\n",
    "#             print(\"Success: {}\\nCount:{}\".format(row['name'],successful))\n",
    "            \n",
    "#         elif(json['meta']['code']==400 or json['meta']['code']==429):\n",
    "#             print(\"Daily Limit Reached\")\n",
    "#             break\n",
    "            \n",
    "#         else:\n",
    "#             print(\"Failed Read\")\n",
    "#             missed.append([row['id'],row['name']])\n",
    "#             print(row['id'],row['name'])\n",
    "\n",
    "# with open(\"footfall.json\",'a') as file:    \n",
    "#     JSON.dump(newFootfall,file)"
   ]
  },
  {
   "cell_type": "markdown",
   "metadata": {},
   "source": [
    "Since Foursquare disabled viewing Total chekins at a place,the popularity of a place is analyzed using a **combination of the Likes, Photos and the Tips** a particular place has."
   ]
  },
  {
   "cell_type": "code",
   "execution_count": 636,
   "metadata": {},
   "outputs": [],
   "source": [
    "with open(\"footfall.json\",'r') as file:    \n",
    "    footfall=JSON.load(file)\n",
    "footfall=pd.DataFrame(footfall)\n",
    "footfall.drop_duplicates(['name'],inplace=True)\n",
    "Landmarks.drop_duplicates(['name'],inplace=True)\n",
    "footfall.sort_values(['tips','photos'],ascending=False)\n",
    "# footfall.reset_index(drop=True,inplace=True)\n",
    "Landmarks=Landmarks.merge(footfall,on='id',suffixes=('', '_y')).drop(['lat_y','long_y','name_y'],axis=1)\n",
    "Landmarks['popularity']=Landmarks[['tips','photos','likes']].sum(axis=1)"
   ]
  },
  {
   "cell_type": "markdown",
   "metadata": {},
   "source": [
    "Used the popularity Value and the actual number of visitors to place and constructed a regression line externally. Every Place is considered to have atleast 15000-30000 visitors annualy and every small landmark is assumed to have a popularity of 0. Though the method used is arbitrary, it can give a fair indicator of the landmarks and their popularity in an area.\n",
    "\n",
    "Every 30,000 visitors to a place is assumed to increase the popularity factor of a place by 1.\n",
    "\n",
    "The regression line used is: **y=167.48*x+30000**"
   ]
  },
  {
   "cell_type": "code",
   "execution_count": 686,
   "metadata": {},
   "outputs": [
    {
     "data": {
      "text/html": [
       "<div>\n",
       "<style scoped>\n",
       "    .dataframe tbody tr th:only-of-type {\n",
       "        vertical-align: middle;\n",
       "    }\n",
       "\n",
       "    .dataframe tbody tr th {\n",
       "        vertical-align: top;\n",
       "    }\n",
       "\n",
       "    .dataframe thead th {\n",
       "        text-align: right;\n",
       "    }\n",
       "</style>\n",
       "<table border=\"1\" class=\"dataframe\">\n",
       "  <thead>\n",
       "    <tr style=\"text-align: right;\">\n",
       "      <th></th>\n",
       "      <th>code</th>\n",
       "      <th>culturalFactor</th>\n",
       "    </tr>\n",
       "  </thead>\n",
       "  <tbody>\n",
       "    <tr>\n",
       "      <th>0</th>\n",
       "      <td>BK09</td>\n",
       "      <td>7.875417</td>\n",
       "    </tr>\n",
       "    <tr>\n",
       "      <th>1</th>\n",
       "      <td>BK17</td>\n",
       "      <td>9.108750</td>\n",
       "    </tr>\n",
       "    <tr>\n",
       "      <th>2</th>\n",
       "      <td>BK21</td>\n",
       "      <td>19.700583</td>\n",
       "    </tr>\n",
       "    <tr>\n",
       "      <th>3</th>\n",
       "      <td>BK25</td>\n",
       "      <td>1.011167</td>\n",
       "    </tr>\n",
       "    <tr>\n",
       "      <th>4</th>\n",
       "      <td>BK26</td>\n",
       "      <td>1.033500</td>\n",
       "    </tr>\n",
       "  </tbody>\n",
       "</table>\n",
       "</div>"
      ],
      "text/plain": [
       "   code  culturalFactor\n",
       "0  BK09        7.875417\n",
       "1  BK17        9.108750\n",
       "2  BK21       19.700583\n",
       "3  BK25        1.011167\n",
       "4  BK26        1.033500"
      ]
     },
     "execution_count": 686,
     "metadata": {},
     "output_type": "execute_result"
    }
   ],
   "source": [
    "Landmarks['culturalFactor']=Landmarks['popularity'].apply(lambda x:(167.5*x+30000)/30000)\n",
    "Landmarks.sort_values('culturalFactor',ascending=False)\n",
    "culturalFactors=Landmarks.groupby('code').sum()[['culturalFactor']].reset_index()\n",
    "culturalFactors.head()"
   ]
  },
  {
   "cell_type": "markdown",
   "metadata": {},
   "source": [
    "The presence of Landmarks and other cultural loactions is condesnsed into a single factor referred here as **cultural factor**. \n",
    "Though it is a completely arbitrary factor, it gives a comparative index for comparing locations.It will be good only as a comparative indicator which is optimal for our purpose "
   ]
  },
  {
   "cell_type": "code",
   "execution_count": 725,
   "metadata": {},
   "outputs": [
    {
     "data": {
      "text/html": [
       "<div>\n",
       "<style scoped>\n",
       "    .dataframe tbody tr th:only-of-type {\n",
       "        vertical-align: middle;\n",
       "    }\n",
       "\n",
       "    .dataframe tbody tr th {\n",
       "        vertical-align: top;\n",
       "    }\n",
       "\n",
       "    .dataframe thead th {\n",
       "        text-align: right;\n",
       "    }\n",
       "</style>\n",
       "<table border=\"1\" class=\"dataframe\">\n",
       "  <thead>\n",
       "    <tr style=\"text-align: right;\">\n",
       "      <th></th>\n",
       "      <th>code</th>\n",
       "      <th>culturalFactor</th>\n",
       "    </tr>\n",
       "  </thead>\n",
       "  <tbody>\n",
       "    <tr>\n",
       "      <th>0</th>\n",
       "      <td>BK09</td>\n",
       "      <td>24.125417</td>\n",
       "    </tr>\n",
       "    <tr>\n",
       "      <th>1</th>\n",
       "      <td>BK17</td>\n",
       "      <td>16.608750</td>\n",
       "    </tr>\n",
       "    <tr>\n",
       "      <th>2</th>\n",
       "      <td>BK19</td>\n",
       "      <td>3.000000</td>\n",
       "    </tr>\n",
       "    <tr>\n",
       "      <th>3</th>\n",
       "      <td>BK21</td>\n",
       "      <td>38.950583</td>\n",
       "    </tr>\n",
       "    <tr>\n",
       "      <th>4</th>\n",
       "      <td>BK25</td>\n",
       "      <td>3.261167</td>\n",
       "    </tr>\n",
       "  </tbody>\n",
       "</table>\n",
       "</div>"
      ],
      "text/plain": [
       "   code  culturalFactor\n",
       "0  BK09       24.125417\n",
       "1  BK17       16.608750\n",
       "2  BK19        3.000000\n",
       "3  BK21       38.950583\n",
       "4  BK25        3.261167"
      ]
     },
     "execution_count": 725,
     "metadata": {},
     "output_type": "execute_result"
    }
   ],
   "source": [
    "tmp=pd.DataFrame(smallLandmarks.groupby('code')['category'].value_counts())\n",
    "tmp=tmp.rename({'category':'count'},axis=1).reset_index()\n",
    "piv=tmp.pivot(index='code',columns='category',values='count').fillna(0).reset_index()\n",
    "piv.index.name=None\n",
    "piv.columns.name=None\n",
    "piv['factor']=piv['Art Gallery']*1.25+piv['Historic Site']*1.5+piv['Music Venue']*1.25+piv['Performing Arts Venue']\n",
    "piv=piv.merge(culturalFactors,on='code',how='left')\n",
    "piv['culturalFactor'].replace(np.NaN,0.0,inplace=True)\n",
    "piv['culturalFactor']=piv['culturalFactor']+piv['factor']\n",
    "result=piv.loc[:,['code','culturalFactor']]\n",
    "result.head()"
   ]
  },
  {
   "cell_type": "markdown",
   "metadata": {},
   "source": [
    "The cultural Factor Data is merged with the orginal Data and it concludes the Data collection and Preparation Stage"
   ]
  },
  {
   "cell_type": "code",
   "execution_count": 4,
   "metadata": {},
   "outputs": [],
   "source": [
    "DF=gp.read_file(\"Data/updatedData.shp\")\n",
    "# DF=DF.merge(result,on='code',how='left')\n",
    "# DF['culturalFactor'].replace(np.NaN,0.0,inplace=True)\n",
    "# DF.to_file(\"Data/preparedData.shp\")"
   ]
  }
 ],
 "metadata": {
  "kernelspec": {
   "display_name": "Python 3",
   "language": "python",
   "name": "python3"
  },
  "language_info": {
   "codemirror_mode": {
    "name": "ipython",
    "version": 3
   },
   "file_extension": ".py",
   "mimetype": "text/x-python",
   "name": "python",
   "nbconvert_exporter": "python",
   "pygments_lexer": "ipython3",
   "version": "3.7.3"
  }
 },
 "nbformat": 4,
 "nbformat_minor": 2
}
